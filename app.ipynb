{
 "cells": [
  {
   "cell_type": "code",
   "execution_count": 1,
   "id": "06a443d5-6ade-4963-a4d5-aa5fe2ae3ab6",
   "metadata": {},
   "outputs": [],
   "source": [
    "\n",
    "# Import the required libraries and dependencies\n",
    "import os\n",
    "import pandas as pd\n",
    "from dotenv import load_dotenv\n",
    "import alpaca_trade_api as tradeapi\n",
    "from src.retrieve_data import retrieve_data\n"
   ]
  },
  {
   "cell_type": "code",
   "execution_count": 7,
   "id": "9dd566fd-76c9-403a-9931-0657f6759c49",
   "metadata": {},
   "outputs": [],
   "source": [
    "def run():\n",
    "    \"\"\"The main function for running the script.\"\"\"\n",
    "    \n",
    "    #---------------- this will be set by the user ------------\n",
    "    # Define tickers for both the bond and stock portion of the portfolio\n",
    "    tickers = [\"SPY\", \"AGG\"]\n",
    "\n",
    "    # Define start and end dates\n",
    "    start_date = pd.to_datetime(\"2023-05-9\").strftime(\"%Y-%m-%d\")\n",
    "    end_date = pd.to_datetime(\"2023-06-9\").strftime(\"%Y-%m-%d\")\n",
    "    #------------------------------------------------------\n",
    "    \n",
    "    portfolio_prices_df = retrieve_data(tickers, start_date, end_date)\n",
    "\n"
   ]
  },
  {
   "cell_type": "code",
   "execution_count": null,
   "id": "b1718335-6fdd-43b6-923a-b2fc55b28f36",
   "metadata": {},
   "outputs": [],
   "source": [
    "run()"
   ]
  },
  {
   "cell_type": "code",
   "execution_count": null,
   "id": "76cc4568-8e41-4f7b-af9e-84effd235193",
   "metadata": {},
   "outputs": [],
   "source": []
  }
 ],
 "metadata": {
  "kernelspec": {
   "display_name": "Python 3 (ipykernel)",
   "language": "python",
   "name": "python3"
  },
  "language_info": {
   "codemirror_mode": {
    "name": "ipython",
    "version": 3
   },
   "file_extension": ".py",
   "mimetype": "text/x-python",
   "name": "python",
   "nbconvert_exporter": "python",
   "pygments_lexer": "ipython3",
   "version": "3.7.13"
  }
 },
 "nbformat": 4,
 "nbformat_minor": 5
}
