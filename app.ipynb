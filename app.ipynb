{
 "cells": [
  {
   "cell_type": "code",
   "execution_count": 1,
   "id": "06a443d5-6ade-4963-a4d5-aa5fe2ae3ab6",
   "metadata": {},
   "outputs": [],
   "source": [
    "\n",
    "# Import the required libraries and dependencies\n",
    "from src.run import run\n"
   ]
  },
  {
   "cell_type": "code",
   "execution_count": 9,
   "id": "b1718335-6fdd-43b6-923a-b2fc55b28f36",
   "metadata": {},
   "outputs": [],
   "source": [
    "out = run()\n",
    "out"
   ]
  }
 ],
 "metadata": {
  "kernelspec": {
   "display_name": "Python 3 (ipykernel)",
   "language": "python",
   "name": "python3"
  },
  "language_info": {
   "codemirror_mode": {
    "name": "ipython",
    "version": 3
   },
   "file_extension": ".py",
   "mimetype": "text/x-python",
   "name": "python",
   "nbconvert_exporter": "python",
   "pygments_lexer": "ipython3",
   "version": "3.8.16"
  }
 },
 "nbformat": 4,
 "nbformat_minor": 5
}
