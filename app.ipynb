{
 "cells": [
  {
   "cell_type": "code",
   "execution_count": 5,
   "id": "06a443d5-6ade-4963-a4d5-aa5fe2ae3ab6",
   "metadata": {},
   "outputs": [],
   "source": [
    "\n",
    "# Import the required libraries and dependencies\n",
    "from src.run import run\n"
   ]
  },
  {
   "cell_type": "code",
   "execution_count": 6,
   "id": "b1718335-6fdd-43b6-923a-b2fc55b28f36",
   "metadata": {},
   "outputs": [
    {
     "name": "stdout",
     "output_type": "stream",
     "text": [
      "Unexpected exception formatting exception. Falling back to standard exception\n"
     ]
    },
    {
     "name": "stderr",
     "output_type": "stream",
     "text": [
      "Traceback (most recent call last):\n",
      "  File \"/Users/davidrosenbloom/anaconda3/envs/dev/lib/python3.8/site-packages/IPython/core/interactiveshell.py\", line 3460, in run_code\n",
      "    exec(code_obj, self.user_global_ns, self.user_ns)\n",
      "  File \"/var/folders/s7/5vbrzq7x741_dp271_qgj7wc0000gn/T/ipykernel_27583/3675559932.py\", line 1, in <module>\n",
      "    run()\n",
      "  File \"/Users/davidrosenbloom/projects/GWU_P1/src/run.py\", line 18, in run\n",
      "    data_df = retrieve_data(tickers, start_date, end_date)\n",
      "  File \"/Users/davidrosenbloom/projects/GWU_P1/src/retrieve_data.py\", line 28, in retrieve_data\n",
      "    alpaca = tradeapi.REST('', '', api_version=\"v2\")\n",
      "  File \"/Users/davidrosenbloom/anaconda3/envs/dev/lib/python3.8/site-packages/alpaca_trade_api/rest.py\", line 168, in __init__\n",
      "    self._key_id, self._secret_key, self._oauth = get_credentials(\n",
      "  File \"/Users/davidrosenbloom/anaconda3/envs/dev/lib/python3.8/site-packages/alpaca_trade_api/common.py\", line 84, in get_credentials\n",
      "    raise ValueError('Key ID must be given to access Alpaca trade API',\n",
      "ValueError: ('Key ID must be given to access Alpaca trade API', ' (env: APCA_API_KEY_ID)')\n",
      "\n",
      "During handling of the above exception, another exception occurred:\n",
      "\n",
      "Traceback (most recent call last):\n",
      "  File \"/Users/davidrosenbloom/anaconda3/envs/dev/lib/python3.8/site-packages/IPython/core/interactiveshell.py\", line 2057, in showtraceback\n",
      "    stb = self.InteractiveTB.structured_traceback(\n",
      "  File \"/Users/davidrosenbloom/anaconda3/envs/dev/lib/python3.8/site-packages/IPython/core/ultratb.py\", line 1118, in structured_traceback\n",
      "    return FormattedTB.structured_traceback(\n",
      "  File \"/Users/davidrosenbloom/anaconda3/envs/dev/lib/python3.8/site-packages/IPython/core/ultratb.py\", line 1012, in structured_traceback\n",
      "    return VerboseTB.structured_traceback(\n",
      "  File \"/Users/davidrosenbloom/anaconda3/envs/dev/lib/python3.8/site-packages/IPython/core/ultratb.py\", line 865, in structured_traceback\n",
      "    formatted_exception = self.format_exception_as_a_whole(etype, evalue, etb, number_of_lines_of_context,\n",
      "  File \"/Users/davidrosenbloom/anaconda3/envs/dev/lib/python3.8/site-packages/IPython/core/ultratb.py\", line 818, in format_exception_as_a_whole\n",
      "    frames.append(self.format_record(r))\n",
      "  File \"/Users/davidrosenbloom/anaconda3/envs/dev/lib/python3.8/site-packages/IPython/core/ultratb.py\", line 736, in format_record\n",
      "    result += ''.join(_format_traceback_lines(frame_info.lines, Colors, self.has_colors, lvals))\n",
      "  File \"/Users/davidrosenbloom/anaconda3/envs/dev/lib/python3.8/site-packages/stack_data/utils.py\", line 145, in cached_property_wrapper\n",
      "    value = obj.__dict__[self.func.__name__] = self.func(obj)\n",
      "  File \"/Users/davidrosenbloom/anaconda3/envs/dev/lib/python3.8/site-packages/stack_data/core.py\", line 698, in lines\n",
      "    pieces = self.included_pieces\n",
      "  File \"/Users/davidrosenbloom/anaconda3/envs/dev/lib/python3.8/site-packages/stack_data/utils.py\", line 145, in cached_property_wrapper\n",
      "    value = obj.__dict__[self.func.__name__] = self.func(obj)\n",
      "  File \"/Users/davidrosenbloom/anaconda3/envs/dev/lib/python3.8/site-packages/stack_data/core.py\", line 649, in included_pieces\n",
      "    pos = scope_pieces.index(self.executing_piece)\n",
      "  File \"/Users/davidrosenbloom/anaconda3/envs/dev/lib/python3.8/site-packages/stack_data/utils.py\", line 145, in cached_property_wrapper\n",
      "    value = obj.__dict__[self.func.__name__] = self.func(obj)\n",
      "  File \"/Users/davidrosenbloom/anaconda3/envs/dev/lib/python3.8/site-packages/stack_data/core.py\", line 628, in executing_piece\n",
      "    return only(\n",
      "  File \"/Users/davidrosenbloom/anaconda3/envs/dev/lib/python3.8/site-packages/executing/executing.py\", line 164, in only\n",
      "    raise NotOneValueFound('Expected one value, found 0')\n",
      "executing.executing.NotOneValueFound: Expected one value, found 0\n"
     ]
    }
   ],
   "source": [
    "run()\n"
   ]
  },
  {
   "cell_type": "code",
   "execution_count": null,
   "id": "76cc4568-8e41-4f7b-af9e-84effd235193",
   "metadata": {},
   "outputs": [],
   "source": []
  }
 ],
 "metadata": {
  "kernelspec": {
   "display_name": "Python 3 (ipykernel)",
   "language": "python",
   "name": "python3"
  },
  "language_info": {
   "codemirror_mode": {
    "name": "ipython",
    "version": 3
   },
   "file_extension": ".py",
   "mimetype": "text/x-python",
   "name": "python",
   "nbconvert_exporter": "python",
   "pygments_lexer": "ipython3",
   "version": "3.8.16"
  }
 },
 "nbformat": 4,
 "nbformat_minor": 5
}
