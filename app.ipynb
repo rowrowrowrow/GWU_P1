{
 "cells": [
  {
   "cell_type": "code",
   "execution_count": 1,
   "id": "06a443d5-6ade-4963-a4d5-aa5fe2ae3ab6",
   "metadata": {},
   "outputs": [],
   "source": [
    "\n",
    "# Import the required libraries and dependencies\n",
    "from src.run import run\n",
    "from ipywidgets import interact, interactive, fixed, interact_manual, FloatSlider, SelectMultiple, Button\n",
    "import ipywidgets as widgets"
   ]
  },
  {
   "cell_type": "code",
   "execution_count": 1,
   "id": "b1718335-6fdd-43b6-923a-b2fc55b28f36",
   "metadata": {},
   "outputs": [
    {
     "ename": "NameError",
     "evalue": "name 'interact_manual' is not defined",
     "output_type": "error",
     "traceback": [
      "\u001b[0;31m---------------------------------------------------------------------------\u001b[0m",
      "\u001b[0;31mNameError\u001b[0m                                 Traceback (most recent call last)",
      "Cell \u001b[0;32mIn[1], line 6\u001b[0m\n\u001b[1;32m      3\u001b[0m \u001b[39mdef\u001b[39;00m \u001b[39mset_risk_tolerance\u001b[39m(i):\n\u001b[1;32m      4\u001b[0m     my_risk_tolerance \u001b[39m=\u001b[39m i\n\u001b[0;32m----> 6\u001b[0m interact_manual(set_risk_tolerance,i\u001b[39m=\u001b[39mFloatSlider(\u001b[39mmin\u001b[39m\u001b[39m=\u001b[39m\u001b[39m0\u001b[39m, \u001b[39mmax\u001b[39m\u001b[39m=\u001b[39m\u001b[39m1\u001b[39m, step\u001b[39m=\u001b[39m\u001b[39m0.01\u001b[39m))\n\u001b[1;32m      8\u001b[0m my_batch_of_tickers \u001b[39m=\u001b[39m []\n\u001b[1;32m     10\u001b[0m \u001b[39mdef\u001b[39;00m \u001b[39mset_my_batch_of_tickers\u001b[39m(i):\n",
      "\u001b[0;31mNameError\u001b[0m: name 'interact_manual' is not defined"
     ]
    }
   ],
   "source": [
    "my_risk_tolerance = FloatSlider(min=0, max=1, step=0.01, value=1)\n",
    "\n",
    "my_batch_of_tickers = SelectMultiple(\n",
    "    options=['scrambled', 'sunny side up', 'poached', 'over easy'],\n",
    ")\n",
    "\n",
    "submit_button = Button(description='submit')\n",
    "\n",
    "\n",
    "def submit_handler():\n",
    "    pass\n",
    "\n",
    "submit_button.on_click(submit_handler)\n",
    "\n",
    "# recalculate function\n",
    "def recalculate(value_1, value_2):\n",
    "    display(value_1)\n",
    "    display(value_2)\n",
    "    # code to perform some calcs on a dataframe based on the widget inputs and print the result\n",
    "\n",
    "out = interact_manual(recalculate, value_1=my_risk_tolerance, value_2=my_batch_of_tickers)"
   ]
  }
 ],
 "metadata": {
  "kernelspec": {
   "display_name": "Python 3 (ipykernel)",
   "language": "python",
   "name": "python3"
  },
  "language_info": {
   "codemirror_mode": {
    "name": "ipython",
    "version": 3
   },
   "file_extension": ".py",
   "mimetype": "text/x-python",
   "name": "python",
   "nbconvert_exporter": "python",
   "pygments_lexer": "ipython3",
   "version": "3.8.16"
  }
 },
 "nbformat": 4,
 "nbformat_minor": 5
}
