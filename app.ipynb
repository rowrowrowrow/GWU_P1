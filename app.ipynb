{
 "cells": [
  {
   "cell_type": "code",
   "execution_count": 59,
   "id": "06a443d5-6ade-4963-a4d5-aa5fe2ae3ab6",
   "metadata": {},
   "outputs": [],
   "source": [
    "\n",
    "# Import the required libraries and dependencies\n",
    "import os\n",
    "import pandas as pd\n",
    "from dotenv import load_dotenv\n",
    "import alpaca_trade_api as tradeapi\n",
    "import sqlalchemy\n"
   ]
  },
  {
   "cell_type": "code",
   "execution_count": 60,
   "id": "a3fa16d0-99d6-4025-898b-c8f2b4b1bccb",
   "metadata": {},
   "outputs": [],
   "source": [
    "\n",
    "def retrieve_data(tickers, start_date, end_date):\n",
    "    \"\"\"Retrieve historical data for a list of tickers within a specified time period.\n",
    "    \n",
    "    Args: \n",
    "        tickers (list) = List of tickers to retrieve data for.\n",
    "        start_date(Timestamp) = The start date of the historical data.\n",
    "        end_date(Timestamp) = The end date of the historical data.\n",
    "    \n",
    "    Returns:\n",
    "        A DataFrame containing the historical data for the specified tickers.\n",
    "        \n",
    "    \"\"\"\n",
    "    \n",
    "    # Load the environment variables from the .env file\n",
    "    #by calling the load_dotenv function\n",
    "    load_dotenv()\n",
    "\n",
    "    # Set the variables for the Alpaca API and secret keys\n",
    "    alpaca_api_key= os.getenv(\"ALPACA_API_KEY\")\n",
    "    alpaca_secret_key= os.getenv(\"ALPACA_SECRET_KEY\")\n",
    "\n",
    "    # Create the Alpaca tradeapi.REST object\n",
    "    alpaca = tradeapi.REST(alpaca_api_key, alpaca_secret_key, api_version=\"v2\")\n",
    "    \n",
    "    # Set timeframe to 1Day\n",
    "    timeframe = \"1Day\"\n",
    "    \n",
    "    # Use the Alpaca get_bars function to get historical data of the assets\n",
    "    portfolio_data_df = alpaca.get_bars(\n",
    "        tickers,\n",
    "        timeframe,\n",
    "        start = start_date,\n",
    "        end = end_date\n",
    "     ).df\n",
    "    \n",
    "    return portfolio_data_df\n",
    "    "
   ]
  },
  {
   "cell_type": "code",
   "execution_count": 67,
   "id": "81f31fac-253f-4479-8beb-dc41f5a69f20",
   "metadata": {},
   "outputs": [],
   "source": [
    "\n",
    "def store_data_sql(data):\n",
    "    \"\"\"Stores data into separate tables in an SQL database based on unique symbols.\n",
    "    \n",
    "    Args:\n",
    "        data (DataFrame): The DataFrame containing the data to be stored in the SQL database.\n",
    "    \n",
    "    \"\"\"\n",
    "    \n",
    "    # Create the connection string for your SQLite database\n",
    "    database_connection_string = 'sqlite:///'\n",
    "\n",
    "    # Pass the connection string to the SQLAlchemy create_engine function\n",
    "    engine = sqlalchemy.create_engine(database_connection_string)\n",
    "    \n",
    "    # Iterate over the unique symbols and save each symbol's data into a separate table\n",
    "    for symbol in data['symbol'].unique():\n",
    "        symbol_data = data[data['symbol'] == symbol]\n",
    "        symbol_data.to_sql(name=symbol, con=engine, if_exists='replace')\n",
    "\n",
    "\n"
   ]
  },
  {
   "cell_type": "code",
   "execution_count": 68,
   "id": "9dd566fd-76c9-403a-9931-0657f6759c49",
   "metadata": {},
   "outputs": [],
   "source": [
    "def run():\n",
    "    \"\"\"The main function for running the script.\"\"\"\n",
    "    \n",
    "    #---------------- this will be set by the user ------------\n",
    "    # Define tickers for both the bond and stock portion of the portfolio\n",
    "    tickers = [\"SPY\", \"AGG\"]\n",
    "\n",
    "    # Define start and end dates\n",
    "    start_date = pd.to_datetime(\"2023-05-9\").strftime(\"%Y-%m-%d\")\n",
    "    end_date = pd.to_datetime(\"2023-06-9\").strftime(\"%Y-%m-%d\")\n",
    "    #------------------------------------------------------\n",
    "    \n",
    "    # Retrieve the historical data\n",
    "    data_df = retrieve_data(tickers, start_date, end_date)\n",
    "    \n",
    "    # Store data in SQL database\n",
    "    store_data_sql(data_df)\n",
    "   \n",
    "    "
   ]
  },
  {
   "cell_type": "code",
   "execution_count": 69,
   "id": "b1718335-6fdd-43b6-923a-b2fc55b28f36",
   "metadata": {},
   "outputs": [],
   "source": [
    "run()\n"
   ]
  },
  {
   "cell_type": "code",
   "execution_count": null,
   "id": "76cc4568-8e41-4f7b-af9e-84effd235193",
   "metadata": {},
   "outputs": [],
   "source": []
  }
 ],
 "metadata": {
  "kernelspec": {
   "display_name": "Python 3 (ipykernel)",
   "language": "python",
   "name": "python3"
  },
  "language_info": {
   "codemirror_mode": {
    "name": "ipython",
    "version": 3
   },
   "file_extension": ".py",
   "mimetype": "text/x-python",
   "name": "python",
   "nbconvert_exporter": "python",
   "pygments_lexer": "ipython3",
   "version": "3.7.13"
  }
 },
 "nbformat": 4,
 "nbformat_minor": 5
}
